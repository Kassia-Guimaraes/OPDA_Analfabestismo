{
  "nbformat": 4,
  "nbformat_minor": 0,
  "metadata": {
    "colab": {
      "name": "AT2 - AD",
      "provenance": [],
      "collapsed_sections": []
    },
    "kernelspec": {
      "name": "python3",
      "display_name": "Python 3"
    },
    "language_info": {
      "name": "python"
    }
  },
  "cells": [
    {
      "cell_type": "code",
      "metadata": {
        "id": "-kWkKq2XTO3A"
      },
      "source": [
        "taxas_analfabetismo = {\n",
        "    'Alagoas': '17,2%',\n",
        "    'Piaí': '16,6%',\n",
        "    'Maranhão': '16,3%',\n",
        "    'Paraíba': '16,1%',\n",
        "    'Sergipe': '13,9%',\n",
        "    'Ceará': '13,3%',\n",
        "    'Rio Grande do Norte': '12,9%',\n",
        "    'Bahia':'12,7%',\n",
        "    'Acre': '12,1%',\n",
        "    'Pernambuco' : '11,9%',\n",
        "    'Tocantins': '10%',\n",
        "    'Pará': '8,8%',\n",
        "    'Mato Grosso': '7,1%',\n",
        "    'Rondônia': '6,5%',\n",
        "    'Amapá': '6,1%',\n",
        "    'Roraima':'6%',\n",
        "    'Minas Gerais': '5,8%',\n",
        "    'Amazonas': '5,8%',\n",
        "    'Goiás': '5,7%',\n",
        "    'Espírito Santo': '5,5%',\n",
        "    'Paraná': '5%',\n",
        "    'Mato Grosso do Sul': '5%',\n",
        "    'Distrito Federal': '3,1%',\n",
        "    'Rio Grande do Sul':'3%',\n",
        "    'São Paulo':'2,6%',\n",
        "    'Santa Catarina':'2,5%',\n",
        "    'Rio de Janeiro':'2,4%',\n",
        "\n",
        "}\n",
        "estado = input('Digite o estado brasileiro que você deseja verificar a taxa de analfabetismo:')\n",
        "print(\"A taxa de analfabetismo do estado de\", estado, \"é:\", taxas_analfabetismo[estado])"
      ],
      "execution_count": null,
      "outputs": []
    }
  ]
}